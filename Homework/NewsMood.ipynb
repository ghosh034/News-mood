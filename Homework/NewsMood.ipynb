{
 "cells": [
  {
   "cell_type": "code",
   "execution_count": 1,
   "metadata": {},
   "outputs": [],
   "source": [
    "#import Dependencies\n",
    "import tweepy\n",
    "import json\n",
    "import pandas as pd\n",
    "import numpy as np\n",
    "import matplotlib.pyplot as plt\n",
    "from datetime import datetime\n",
    "\n",
    "# Import and Initialize Sentiment Analyzer\n",
    "from vaderSentiment.vaderSentiment import SentimentIntensityAnalyzer\n",
    "analyzer = SentimentIntensityAnalyzer()"
   ]
  },
  {
   "cell_type": "code",
   "execution_count": 2,
   "metadata": {},
   "outputs": [],
   "source": [
    "# Twitter API Keys\n",
    "from config import (consumer_key, \n",
    "                    consumer_secret, \n",
    "                    access_token, \n",
    "                    access_token_secret)\n",
    "\n",
    "\n",
    "#set twitter authentification\n",
    "auth = tweepy.OAuthHandler(consumer_key, consumer_secret)\n",
    "auth.set_access_token(access_token, access_token_secret)\n",
    "api = tweepy.API(auth, parser=tweepy.parsers.JSONParser())"
   ]
  },
  {
   "cell_type": "code",
   "execution_count": 3,
   "metadata": {},
   "outputs": [],
   "source": [
    "#colect targetterms and create lists to hold results for sentiment analysis and data frame\n",
    "target_terms = [\"@BBC\", \"@CBS\",\"@CNN\",\"@FoxNews\", \"@nytimes\"]\n",
    "compound_list = []\n",
    "positive_list = []\n",
    "neutral_list = []\n",
    "negative_list = []\n",
    "tweets_ago = []\n",
    "outlet_account = []\n",
    "tweettext = []\n",
    "tweetdate = []"
   ]
  },
  {
   "cell_type": "code",
   "execution_count": 4,
   "metadata": {},
   "outputs": [],
   "source": [
    "#Looping through all the terms\n",
    "for term in target_terms:\n",
    "    tweet_count = 0\n",
    "    #Pulling tweets\n",
    "    for x in range(5):\n",
    "        public_tweets = api.user_timeline(term, page=x)\n",
    "\n",
    "        #Looping through all tweets\n",
    "        for tweet in public_tweets:\n",
    "            tweet_count += 1\n",
    "    \n",
    "            #Appending results to list\n",
    "            outlet_account.append(term)\n",
    "            tweettext.append(tweet['text'])\n",
    "            tweetdate.append(tweet['created_at'])\n",
    "            tweets_ago.append(tweet_count)\n",
    "    \n",
    "            #Performing Vader Sentiment Analysis on each tweet\n",
    "            compound = analyzer.polarity_scores(tweet[\"text\"])[\"compound\"]\n",
    "            pos = analyzer.polarity_scores(tweet[\"text\"])[\"pos\"]\n",
    "            neu = analyzer.polarity_scores(tweet[\"text\"])[\"neu\"]\n",
    "            neg = analyzer.polarity_scores(tweet[\"text\"])[\"neg\"]\n",
    "    \n",
    "            #Appending sentiment analysis to respective list\n",
    "            compound_list.append(compound)\n",
    "            positive_list.append(pos)\n",
    "            neutral_list.append(neu)\n",
    "            negative_list.append(neg)"
   ]
  },
  {
   "cell_type": "code",
   "execution_count": 5,
   "metadata": {},
   "outputs": [
    {
     "data": {
      "text/html": [
       "<div>\n",
       "<style scoped>\n",
       "    .dataframe tbody tr th:only-of-type {\n",
       "        vertical-align: middle;\n",
       "    }\n",
       "\n",
       "    .dataframe tbody tr th {\n",
       "        vertical-align: top;\n",
       "    }\n",
       "\n",
       "    .dataframe thead th {\n",
       "        text-align: right;\n",
       "    }\n",
       "</style>\n",
       "<table border=\"1\" class=\"dataframe\">\n",
       "  <thead>\n",
       "    <tr style=\"text-align: right;\">\n",
       "      <th></th>\n",
       "      <th>Source</th>\n",
       "      <th>Tweet</th>\n",
       "      <th>Date</th>\n",
       "      <th>Compound Score</th>\n",
       "      <th>Positive Score</th>\n",
       "      <th>Neutral Score</th>\n",
       "      <th>Negative Score</th>\n",
       "      <th>Tweets Ago</th>\n",
       "    </tr>\n",
       "  </thead>\n",
       "  <tbody>\n",
       "    <tr>\n",
       "      <th>0</th>\n",
       "      <td>@BBC</td>\n",
       "      <td>The search for Lord Sugar's next business part...</td>\n",
       "      <td>Wed Oct 03 19:04:04 +0000 2018</td>\n",
       "      <td>0.4939</td>\n",
       "      <td>0.181</td>\n",
       "      <td>0.819</td>\n",
       "      <td>0.0</td>\n",
       "      <td>1</td>\n",
       "    </tr>\n",
       "    <tr>\n",
       "      <th>1</th>\n",
       "      <td>@BBC</td>\n",
       "      <td>🎧❤️ Dementia playlists are making such a big d...</td>\n",
       "      <td>Wed Oct 03 17:59:01 +0000 2018</td>\n",
       "      <td>0.0000</td>\n",
       "      <td>0.000</td>\n",
       "      <td>1.000</td>\n",
       "      <td>0.0</td>\n",
       "      <td>2</td>\n",
       "    </tr>\n",
       "    <tr>\n",
       "      <th>2</th>\n",
       "      <td>@BBC</td>\n",
       "      <td>RT @BBCnireland: ✍ @BBCApprentice is back toni...</td>\n",
       "      <td>Wed Oct 03 17:03:42 +0000 2018</td>\n",
       "      <td>0.5411</td>\n",
       "      <td>0.149</td>\n",
       "      <td>0.851</td>\n",
       "      <td>0.0</td>\n",
       "      <td>3</td>\n",
       "    </tr>\n",
       "    <tr>\n",
       "      <th>3</th>\n",
       "      <td>@BBC</td>\n",
       "      <td>❤️ Couples will soon be able to choose a civil...</td>\n",
       "      <td>Wed Oct 03 16:55:01 +0000 2018</td>\n",
       "      <td>0.4404</td>\n",
       "      <td>0.132</td>\n",
       "      <td>0.868</td>\n",
       "      <td>0.0</td>\n",
       "      <td>4</td>\n",
       "    </tr>\n",
       "    <tr>\n",
       "      <th>4</th>\n",
       "      <td>@BBC</td>\n",
       "      <td>🍜 The humble origins of an incredibly versatil...</td>\n",
       "      <td>Wed Oct 03 15:58:03 +0000 2018</td>\n",
       "      <td>0.0000</td>\n",
       "      <td>0.000</td>\n",
       "      <td>1.000</td>\n",
       "      <td>0.0</td>\n",
       "      <td>5</td>\n",
       "    </tr>\n",
       "  </tbody>\n",
       "</table>\n",
       "</div>"
      ],
      "text/plain": [
       "  Source                                              Tweet  \\\n",
       "0   @BBC  The search for Lord Sugar's next business part...   \n",
       "1   @BBC  🎧❤️ Dementia playlists are making such a big d...   \n",
       "2   @BBC  RT @BBCnireland: ✍ @BBCApprentice is back toni...   \n",
       "3   @BBC  ❤️ Couples will soon be able to choose a civil...   \n",
       "4   @BBC  🍜 The humble origins of an incredibly versatil...   \n",
       "\n",
       "                             Date  Compound Score  Positive Score  \\\n",
       "0  Wed Oct 03 19:04:04 +0000 2018          0.4939           0.181   \n",
       "1  Wed Oct 03 17:59:01 +0000 2018          0.0000           0.000   \n",
       "2  Wed Oct 03 17:03:42 +0000 2018          0.5411           0.149   \n",
       "3  Wed Oct 03 16:55:01 +0000 2018          0.4404           0.132   \n",
       "4  Wed Oct 03 15:58:03 +0000 2018          0.0000           0.000   \n",
       "\n",
       "   Neutral Score  Negative Score  Tweets Ago  \n",
       "0          0.819             0.0           1  \n",
       "1          1.000             0.0           2  \n",
       "2          0.851             0.0           3  \n",
       "3          0.868             0.0           4  \n",
       "4          1.000             0.0           5  "
      ]
     },
     "execution_count": 5,
     "metadata": {},
     "output_type": "execute_result"
    }
   ],
   "source": [
    "#dictionary to hold dataframe elements\n",
    "tweet_dict = { \"Source\": outlet_account,\n",
    "              \"Tweet\": tweettext,\n",
    "              \"Date\": tweetdate,\n",
    "              \"Compound Score\": compound_list,\n",
    "              \"Positive Score\": positive_list,\n",
    "              \"Neutral Score\": neutral_list,\n",
    "              \"Negative Score\": negative_list,\n",
    "              \"Tweets Ago\": tweets_ago}\n",
    "\n",
    "\n",
    "#tweet dataframe \n",
    "tweet_df = pd.DataFrame(tweet_dict)\n",
    "tweet_df.head()"
   ]
  },
  {
   "cell_type": "code",
   "execution_count": 6,
   "metadata": {},
   "outputs": [
    {
     "data": {
      "text/plain": [
       "Source            500\n",
       "Tweet             500\n",
       "Date              500\n",
       "Compound Score    500\n",
       "Positive Score    500\n",
       "Neutral Score     500\n",
       "Negative Score    500\n",
       "Tweets Ago        500\n",
       "dtype: int64"
      ]
     },
     "execution_count": 6,
     "metadata": {},
     "output_type": "execute_result"
    }
   ],
   "source": [
    "tweet_df.count()"
   ]
  },
  {
   "cell_type": "code",
   "execution_count": 7,
   "metadata": {},
   "outputs": [],
   "source": [
    "bbc = tweet_df.loc[tweet_df[\"Source\"] == \"@BBC\"]\n",
    "cbs = tweet_df.loc[tweet_df[\"Source\"] == \"@CBS\"]\n",
    "cnn = tweet_df.loc[tweet_df[\"Source\"] == \"@CNN\"]\n",
    "fox = tweet_df.loc[tweet_df[\"Source\"] == \"@FoxNews\"]\n",
    "nyt = tweet_df.loc[tweet_df[\"Source\"] == \"@nytimes\"]"
   ]
  },
  {
   "cell_type": "code",
   "execution_count": 8,
   "metadata": {},
   "outputs": [
    {
     "data": {
      "image/png": "[encoded data removed]",
      "text/plain": [
       "<Figure size 432x288 with 1 Axes>"
      ]
     },
     "metadata": {},
     "output_type": "display_data"
    }
   ],
   "source": [
    "# Plotting Tweets ago vs compound score for each Media Source with scatter plot\n",
    "plt.scatter(bbc[\"Tweets Ago\"], bbc[\"Compound Score\"], c='c', edgecolor='k', label='BBC')\n",
    "plt.scatter(cbs[\"Tweets Ago\"], cbs[\"Compound Score\"], c='g', edgecolor='k', label='CBS')\n",
    "plt.scatter(cnn[\"Tweets Ago\"], cnn[\"Compound Score\"], c='r', edgecolor='k', label='CNN')\n",
    "plt.scatter(fox[\"Tweets Ago\"], fox[\"Compound Score\"], c='navy', edgecolor='k', label='Fox')\n",
    "plt.scatter(nyt[\"Tweets Ago\"], nyt[\"Compound Score\"], c='y', edgecolor='k', label='New York Times')\n",
    "\n",
    "#setting legend\n",
    "legend = plt.legend(title = \"Media Source\", bbox_to_anchor=(1, 0.95))\n",
    "legend.legendHandles[0]._sizes = [25]\n",
    "legend.legendHandles[1]._sizes = [25]\n",
    "legend.legendHandles[2]._sizes = [25]\n",
    "legend.legendHandles[3]._sizes = [25]\n",
    "legend.legendHandles[4]._sizes = [25]\n",
    "\n",
    "#setting chart characteristics\n",
    "plt.title(\"Sentiment Analysis of Media Tweets(10/03/2018)\")\n",
    "plt.xlabel(\"Tweets Ago\")\n",
    "plt.xlim(105,-5)\n",
    "plt.ylabel(\"Tweet Polarity\")\n",
    "plt.ylim(-1.1,1.1)\n",
    "plt.legend(bbox_to_anchor=(1, 1), title='Media Sources', fontsize='medium')\n",
    "\n",
    "#saving figure\n",
    "plt.savefig(\"Plots/TweetsagoVsCompoundscore.png\", bbox_inches=\"tight\")\n",
    "\n",
    "plt.show()"
   ]
  },
  {
   "cell_type": "code",
   "execution_count": 9,
   "metadata": {},
   "outputs": [
    {
     "data": {
      "image/png": "[encoded data removed]",
      "text/plain": [
       "<Figure size 432x288 with 1 Axes>"
      ]
     },
     "metadata": {},
     "output_type": "display_data"
    }
   ],
   "source": [
    "#plotting Tweet Polarity vs Overall Media Sentiment based on Twitter using bar chart\n",
    "plt.bar(0, bbc['Compound Score'].mean(), color='c', edgecolor='k', width=1)\n",
    "plt.bar(1, cbs['Compound Score'].mean(), color='g', edgecolor='k', width=1)\n",
    "plt.bar(2, cnn['Compound Score'].mean(), color='r', edgecolor='k', width=1)\n",
    "plt.bar(3, fox['Compound Score'].mean(), color='navy', edgecolor='k', width=1)\n",
    "plt.bar(4, nyt['Compound Score'].mean(), color='y', edgecolor='k', width=1)\n",
    "\n",
    "#Setting chart characteristics\n",
    "plt.title(\"Overall Media Sentiment based on Twitter (10/3/2018)\" )\n",
    "plt.ylabel(\"Tweet Polarity\")\n",
    "plt.ylim(-0.5,0.5)\n",
    "\n",
    "#setting ticks for bar chart\n",
    "x_labels = [\"BBC\", \"CBS\", \"CNN\", \"Fox\", \"NYT\"]\n",
    "tick_locations = [value for value in np.arange(5)]\n",
    "plt.xticks(tick_locations, x_labels)\n",
    "\n",
    "#saving figure\n",
    "plt.savefig(\"Plots/OverallMediaSentimentPlot.png\", bbox_inches=\"tight\")\n",
    "plt.show()"
   ]
  },
  {
   "cell_type": "markdown",
   "metadata": {},
   "source": [
    "Observable Trends:\n",
    "\n",
    "1.All news outlets except Fox have a overall positive Vader Sentiment score as seen in the bar graph. That is kind of interesting. (What could Fox have been reporting that was so different from the other prominent news souces?)\n",
    "\n",
    "2.All news outlets from the tweets pulled seem to have equal variance in tweet polarity. This is an inference drawn from the scatter plot as there are equal amount of scatter points for each media outlet on the positive and negative ends of tweet polarity.\n",
    "\n",
    "3.In the scatter plot, there is a clump of data points around zero at similar timeframes for all media sources. This implies that the news reported during these times did not have an impact."
   ]
  }
 ],
 "metadata": {
  "kernelspec": {
   "display_name": "Python [default]",
   "language": "python",
   "name": "python3"
  },
  "language_info": {
   "codemirror_mode": {
    "name": "ipython",
    "version": 3
   },
   "file_extension": ".py",
   "mimetype": "text/x-python",
   "name": "python",
   "nbconvert_exporter": "python",
   "pygments_lexer": "ipython3",
   "version": "3.6.5"
  }
 },
 "nbformat": 4,
 "nbformat_minor": 2
}
